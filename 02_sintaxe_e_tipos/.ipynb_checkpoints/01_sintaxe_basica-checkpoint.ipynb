{
 "cells": [
  {
   "cell_type": "markdown",
   "metadata": {},
   "source": [
    "## Sintaxe\n",
    "***"
   ]
  },
  {
   "cell_type": "markdown",
   "metadata": {},
   "source": [
    "JavaScript pega emprestado a maior parte de sua sintaxe do Java, mas também é influenciado por Awk, Perl e Python.\n",
    "\n",
    "JavaScript é **case-sensitive** e usa o conjunto de caracteres **Unicode**. Por exemplo, a palavra Früh (que significa \"cedo\" em Alemão) pode ser usada como nome de variável."
   ]
  },
  {
   "cell_type": "code",
   "execution_count": 1,
   "metadata": {},
   "outputs": [],
   "source": [
    "var Fruh = \"foobar\";"
   ]
  },
  {
   "cell_type": "markdown",
   "metadata": {},
   "source": [
    "Mas a variável früh não é a mesma que Früh porque JavaScript é case sensitive.\n",
    "\n",
    "No JavaScript, instruções são chamadas de declaração e são separadas por um ponto e vírgula (;).\n",
    "\n",
    "Espaços, tabulação e uma nova linha são chamados de espaços em branco.\n",
    "\n",
    "O código fonte dos scripts em JavaScript são lidos da esquerda para a direita e são convertidos em uma sequência de elementos de entrada como simbolos, caracteres de controle, terminadores de linha, comentários ou espaço em branco.\n",
    "\n",
    "ECMAScript também define determinadas palavras-chave e literais, e tem regras para inserção automática de ponto e vírgula (ASI) para terminar as declarações. No entanto, recomenda-se sempre adicionar ponto e vírgula no final de suas declarações; isso evitará alguns imprevistos."
   ]
  }
 ],
 "metadata": {
  "kernelspec": {
   "display_name": "Javascript (Node.js)",
   "language": "javascript",
   "name": "javascript"
  },
  "language_info": {
   "file_extension": ".js",
   "mimetype": "application/javascript",
   "name": "javascript",
   "version": "8.12.0"
  }
 },
 "nbformat": 4,
 "nbformat_minor": 2
}
