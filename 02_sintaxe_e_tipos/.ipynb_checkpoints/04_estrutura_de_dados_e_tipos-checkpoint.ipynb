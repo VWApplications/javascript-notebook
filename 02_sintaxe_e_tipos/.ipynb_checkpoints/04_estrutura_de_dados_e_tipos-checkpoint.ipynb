{
 "cells": [
  {
   "cell_type": "markdown",
   "metadata": {},
   "source": [
    "## Estrutura de dados e tipos\n",
    "***"
   ]
  },
  {
   "cell_type": "markdown",
   "metadata": {},
   "source": [
    "O mais recente padrão ECMAScript define sete tipos de dados:\n",
    "\n",
    "Seis tipos de dados são os chamados primitivos:\n",
    "\n",
    "* **Boolean**: Um booleano, em ciência da computação, é um tipo de dado lógico que pode ter apenas um de dois valores possíveis, true (verdadeiro) e false (falso). Por exemplo, em Javascript, condicionais booleanas são usadas para decidir quais trechos do código serão executados ou repetidos.\n",
    "\n",
    "\n",
    "* **null**: Em ciência da computação, um valor nulo representa uma referência que aponta, geralmente de maneira intencional, para um objeto ou endereço de memória inválido ou inexistente. O significado do valor nulo varia entre as implementações das linguagens. Devido JavaScript ser case-sensitive, null não é o mesmo que Null, NULL, ou ainda outra variação.\n",
    "\n",
    "\n",
    "* **undefined**: Um valor primitivo automaticamente atribuido para variáveis que foram recentemente declaradas ou para argumentos formais para qual não existem argumentos atualmente. É uma propriedade superior cujo valor é indefinido.\n",
    "\n",
    "\n",
    "* **Number**: No JavaScript, Number é um tipo de dado numérico no double-precision 64-bit floating point format (IEEE 754). Em outras linguagens de programação diferentes tipos numéricos podem existir, por exemplo: Integers, Floats, Doubles, etc. Exemplos de Numbers: 42 ou 3.14159.\n",
    "\n",
    "\n",
    "* **String**: Em qualquer linguagem de programação, uma string é uma sequência de caracteres usados para representar um texto. Por exemplo: \"Ola mundo!\"\n",
    "\n",
    "\n",
    "* **Symbol** (novo em ECMAScript 6). Um tipo de dado cuja as instâncias são únicas e imutáveis.\n",
    "\n",
    "E **Object**: Se refere a uma estrutura de dados contendo dados e instruções para se trabalhar com esses dados. Objetos algumas vezes se referem a coisas do mundo real, por exemplo, um carro ou um mapa de um jogo de corrida. Javascript, Java, Python, C++ e Ruby são exemplos de linguagens orientadas a objetos.\n",
    "\n",
    "Embora esses tipos de dados sejam uma quantidade relativamente pequena, eles permitem realizar funções úteis em suas aplicações.  **Objetos** e **funções** são outros elementos fundamentais na linguagem. Você pode pensar em objetos como recipientes para os valores, e funções como métodos que suas aplicações podem executar."
   ]
  },
  {
   "cell_type": "markdown",
   "metadata": {},
   "source": [
    "***\n",
    "### Conversão de tipos de dados\n",
    "***"
   ]
  },
  {
   "cell_type": "markdown",
   "metadata": {},
   "source": [
    "JavaScript é uma linguagem dinamicamente tipada. Isso significa que você não precisa especificar o tipo de dado de uma variável quando declará-la, e tipos de dados são convertidos automaticamente conforme a necessidade durante a execução do script. Então, por exemplo, você pode definir uma variável da seguinte forma:"
   ]
  },
  {
   "cell_type": "code",
   "execution_count": 1,
   "metadata": {},
   "outputs": [],
   "source": [
    "var answer = 42;"
   ]
  },
  {
   "cell_type": "markdown",
   "metadata": {},
   "source": [
    "E depois, você pode atribuir uma string para a mesma variável, por exemplo:"
   ]
  },
  {
   "cell_type": "code",
   "execution_count": 2,
   "metadata": {},
   "outputs": [
    {
     "data": {
      "text/plain": [
       "'Obrigado pelos peixes...'"
      ]
     },
     "execution_count": 2,
     "metadata": {},
     "output_type": "execute_result"
    }
   ],
   "source": [
    "answer = \"Obrigado pelos peixes...\";"
   ]
  },
  {
   "cell_type": "markdown",
   "metadata": {},
   "source": [
    "Devido JavaScript ser dinamicamente tipado, essa declaração não gera uma mensagem de erro.\n",
    "\n",
    "Em expressões envolvendo valores numérico e string com o operador +, JavaScript converte valores numérico para strings. Por exemplo, considere a seguinte declaração:"
   ]
  },
  {
   "cell_type": "code",
   "execution_count": 3,
   "metadata": {},
   "outputs": [
    {
     "data": {
      "text/plain": [
       "'A resposta é 42'"
      ]
     },
     "execution_count": 3,
     "metadata": {},
     "output_type": "execute_result"
    }
   ],
   "source": [
    "x = \"A resposta é \" + 42"
   ]
  },
  {
   "cell_type": "code",
   "execution_count": 4,
   "metadata": {},
   "outputs": [
    {
     "data": {
      "text/plain": [
       "'42 é a resposta'"
      ]
     },
     "execution_count": 4,
     "metadata": {},
     "output_type": "execute_result"
    }
   ],
   "source": [
    "y = 42 + \" é a resposta\""
   ]
  },
  {
   "cell_type": "markdown",
   "metadata": {},
   "source": [
    "Nas declarações envolvendo outros operadores,  JavaScript não converte valores numérico para strings. Por exemplo:"
   ]
  },
  {
   "cell_type": "code",
   "execution_count": 5,
   "metadata": {},
   "outputs": [
    {
     "data": {
      "text/plain": [
       "30"
      ]
     },
     "execution_count": 5,
     "metadata": {},
     "output_type": "execute_result"
    }
   ],
   "source": [
    "\"37\" - 7"
   ]
  },
  {
   "cell_type": "code",
   "execution_count": 6,
   "metadata": {},
   "outputs": [
    {
     "data": {
      "text/plain": [
       "'377'"
      ]
     },
     "execution_count": 6,
     "metadata": {},
     "output_type": "execute_result"
    }
   ],
   "source": [
    "\"37\" + 7"
   ]
  },
  {
   "cell_type": "markdown",
   "metadata": {},
   "source": [
    "***\n",
    "### Convertendo strings para números\n",
    "***"
   ]
  },
  {
   "cell_type": "markdown",
   "metadata": {},
   "source": [
    "No caso de um valor que representa um número está armazenado na memória como uma string, existem métodos para a conversão.\n",
    "\n",
    "* **ParseInt(string, base)**\n",
    "\n",
    "\n",
    "* **ParseFloat(string)**\n",
    "\n",
    "parseInt irá retornar apenas números inteiros, então seu uso é restrito para a casa dos decimais. Além disso, é uma boa prática ao usar parseInt incluir o parâmetro da base. O parâmetro da base é usado para especificar qual sistema númerico deve ser usado."
   ]
  },
  {
   "cell_type": "code",
   "execution_count": 7,
   "metadata": {},
   "outputs": [
    {
     "data": {
      "text/plain": [
       "15"
      ]
     },
     "execution_count": 7,
     "metadata": {},
     "output_type": "execute_result"
    }
   ],
   "source": [
    "parseInt(15.99, 10);"
   ]
  },
  {
   "cell_type": "code",
   "execution_count": 8,
   "metadata": {},
   "outputs": [
    {
     "data": {
      "text/plain": [
       "3.14"
      ]
     },
     "execution_count": 8,
     "metadata": {},
     "output_type": "execute_result"
    }
   ],
   "source": [
    "parseFloat(\"3.14\");"
   ]
  },
  {
   "cell_type": "markdown",
   "metadata": {},
   "source": [
    "Uma método alternativo de conversão de um número em forma de string é com o operador + (operador soma):"
   ]
  },
  {
   "cell_type": "code",
   "execution_count": 9,
   "metadata": {},
   "outputs": [
    {
     "data": {
      "text/plain": [
       "'1.11.1'"
      ]
     },
     "execution_count": 9,
     "metadata": {},
     "output_type": "execute_result"
    }
   ],
   "source": [
    "\"1.1\" + \"1.1\""
   ]
  },
  {
   "cell_type": "code",
   "execution_count": 10,
   "metadata": {},
   "outputs": [
    {
     "data": {
      "text/plain": [
       "2.2"
      ]
     },
     "execution_count": 10,
     "metadata": {},
     "output_type": "execute_result"
    }
   ],
   "source": [
    "// Nota: Os parênteses foram usados para deixar mais legível o código, ele não é requirido.\n",
    "(+\"1.1\") + (+\"1.1\")"
   ]
  }
 ],
 "metadata": {
  "kernelspec": {
   "display_name": "Javascript (Node.js)",
   "language": "javascript",
   "name": "javascript"
  },
  "language_info": {
   "file_extension": ".js",
   "mimetype": "application/javascript",
   "name": "javascript",
   "version": "8.12.0"
  }
 },
 "nbformat": 4,
 "nbformat_minor": 2
}
