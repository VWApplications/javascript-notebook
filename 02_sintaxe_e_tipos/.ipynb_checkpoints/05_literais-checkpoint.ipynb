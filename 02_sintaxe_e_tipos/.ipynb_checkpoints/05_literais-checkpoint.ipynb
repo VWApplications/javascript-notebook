{
 "cells": [
  {
   "cell_type": "markdown",
   "metadata": {},
   "source": [
    "## Literais\n",
    "***"
   ]
  },
  {
   "cell_type": "markdown",
   "metadata": {},
   "source": [
    "Você usa literais para representar valores em JavaScript. Estes são valores fixados, não variáveis, que você literalmente insere em seu script. Esta seção descreve os seguintes tipos literais:\n",
    "\n",
    "* Array\n",
    "* Boolean\n",
    "* Ponto flutuante\n",
    "* Inteiros\n",
    "* Objeto\n",
    "* String"
   ]
  },
  {
   "cell_type": "markdown",
   "metadata": {},
   "source": [
    "***\n",
    "### Array\n",
    "***"
   ]
  },
  {
   "cell_type": "markdown",
   "metadata": {},
   "source": [
    "Um array literal é uma lista de zero ou mais expressões, onde cada uma delas representam um elemento do array, inseridas entre colchetes (```[]```). Quando você cria um array usando um array literal, ele é inicializado  com os valores especificados como seus elementos, e seu comprimento é definido com o  número de elementos especificados.\n",
    "\n",
    "O exemplo a seguir cria um array coffees com três elementos e um comprimento de três:"
   ]
  },
  {
   "cell_type": "code",
   "execution_count": 3,
   "metadata": {},
   "outputs": [
    {
     "name": "stdout",
     "output_type": "stream",
     "text": [
      "[ 'French Roast', 'Colombian', 'Kona' ]\n"
     ]
    }
   ],
   "source": [
    "var coffees = [\"French Roast\", \"Colombian\", \"Kona\"];\n",
    "console.log(coffees)"
   ]
  },
  {
   "cell_type": "markdown",
   "metadata": {},
   "source": [
    "Se um array é criado usando um literal no topo do script, JavaScript interpreta o array cada vez que avalia a expressão que contêm o array literal. Além disso, um literal usado em uma função é criado cada vez que a função é chamada.\n",
    "\n",
    "Array literal são também um array de objetos. Veja  Array e Coleções indexadas para detalhes sobre array de objetos.\n",
    "\n",
    "#### Vírgulas extras em array literal\n",
    "\n",
    "Você não precisa especificar todos os elementos em um array literal. Se você colocar duas vírgulas em uma linha, o array é criado com undefined para os elementos não especificados. O exemplo a seguir cria um array chamado fish:"
   ]
  },
  {
   "cell_type": "code",
   "execution_count": 4,
   "metadata": {},
   "outputs": [
    {
     "name": "stdout",
     "output_type": "stream",
     "text": [
      "[ 'Lion', <1 empty item>, 'Angel' ]\n"
     ]
    }
   ],
   "source": [
    "var fish = [\"Lion\", , \"Angel\"];\n",
    "console.log(fish)"
   ]
  },
  {
   "cell_type": "markdown",
   "metadata": {},
   "source": [
    "Esse array tem dois elementos com valores e um elemento vazio (```fish[0]``` é \"Lion\", ```fish[1]``` é undefined, e ```fish[2]``` é \"Angel\" ).\n",
    "\n",
    "Se você incluir uma vírgula à direita no final da lista dos elementos, a vírgula é ignorada. No exemplo a seguir, o comprimento do array é três. Não há nenhum ```myList[3]```. Todas as outras vírgulas na lista indicam um novo elemento."
   ]
  },
  {
   "cell_type": "code",
   "execution_count": 5,
   "metadata": {},
   "outputs": [
    {
     "name": "stdout",
     "output_type": "stream",
     "text": [
      "[ 'home', <1 empty item>, 'school' ]\n"
     ]
    }
   ],
   "source": [
    "var myList = ['home', , 'school', ];\n",
    "console.log(myList)"
   ]
  },
  {
   "cell_type": "markdown",
   "metadata": {},
   "source": [
    "No exemplo a seguir, o comprimento do array é quatro, e ```myList[0]``` e ```myList[2]``` são undefined."
   ]
  },
  {
   "cell_type": "code",
   "execution_count": 7,
   "metadata": {},
   "outputs": [
    {
     "name": "stdout",
     "output_type": "stream",
     "text": [
      "undefined\n",
      "home\n"
     ]
    }
   ],
   "source": [
    "var myList = [ , 'home', , 'school'];\n",
    "console.log(myList[0])\n",
    "console.log(myList[1])"
   ]
  },
  {
   "cell_type": "markdown",
   "metadata": {},
   "source": [
    "No exemplo a seguir, o comprimento do array é quatro, e ```myList[1]``` e ```myList[3]``` são undefined. Apenas a última vírgula é ignorada."
   ]
  },
  {
   "cell_type": "code",
   "execution_count": 8,
   "metadata": {},
   "outputs": [
    {
     "name": "stdout",
     "output_type": "stream",
     "text": [
      "[ 'home', <1 empty item>, 'school', <1 empty item> ]\n"
     ]
    }
   ],
   "source": [
    "var myList = ['home', , 'school', , ];\n",
    "console.log(myList)"
   ]
  },
  {
   "cell_type": "markdown",
   "metadata": {},
   "source": [
    "Entender o comportamento de vírgulas extras é importante para a compreensão da linguagem JavaScript, no entanto, quando você escrever seu próprio código: declarar explicitamente os elementos em falta como undefined vai aumentar a clareza do código, e consequentemente na sua manutenção."
   ]
  },
  {
   "cell_type": "markdown",
   "metadata": {},
   "source": [
    "***\n",
    "### Boolean\n",
    "***"
   ]
  },
  {
   "cell_type": "markdown",
   "metadata": {},
   "source": [
    "O tipo Boolean tem dois valores literal: true e false.\n",
    "\n",
    "Não confunda os valores primitivos Boolean true e false com os valores true e false do objeto Boolean. O objeto Boolean é um invólucro em torno do tipo de dado primitivo."
   ]
  },
  {
   "cell_type": "markdown",
   "metadata": {},
   "source": [
    "***\n",
    "### Inteiros\n",
    "***"
   ]
  },
  {
   "cell_type": "markdown",
   "metadata": {},
   "source": [
    "Inteiros podem ser expressos em decimal (base 10), hexadecimal (base 16), octal (base 8) e binário (base 2).\n",
    "\n",
    "* **Decimal**: Decimal inteiro literal consiste em uma sequência de dígitos sem um 0 (zero). Por exemplo: 0, 117, -345 (decimal, base 10)\n",
    "\n",
    "\n",
    "* **Octal**: 0 (zero) em um inteiro literal indica que ele está em octal. Octal pode incluir somente os dígitos 0-7. Por exemplo: 015, 0001, -077 (octal, base 8)\n",
    "\n",
    "\n",
    "* **Hexadecimal**: 0x (ou 0X) indica um hexadecimal. Inteiros hexadecimais podem incluir dígitos (0-9) e as letras a-f e A-F. Por exemplo: 0x1123, 0x00111, -0xF1A7 (hexadecimal, \"hex\" or base 16)\n",
    "\n",
    "\n",
    "* **Binário**: 0b (ou 0B) indica um binário. Inteiros binário podem incluir apenas os dígitos 0 e 1. Por exemplo: 0b11, 0b0011, -0b11 (binário, base 2)"
   ]
  },
  {
   "cell_type": "markdown",
   "metadata": {},
   "source": [
    "***\n",
    "### Ponto Flutuante\n",
    "***"
   ]
  },
  {
   "cell_type": "markdown",
   "metadata": {},
   "source": [
    "Um literal de ponto flutuante pode ter as seguintes partes:\n",
    "\n",
    "* Um inteiro decimal que pode ter sinal (precedido por \"+\" ou \"-\"),\n",
    "\n",
    "\n",
    "* Um ponto decimal (\".\"),\n",
    "\n",
    "\n",
    "* Uma fração (outro número decimal),\n",
    "\n",
    "\n",
    "* Um expoente.\n",
    "\n",
    "O expoente é um \"e\" ou \"E\" seguido por um inteiro, que pode ter sinal (precedido por \"+\" ou \"-\"). Um literal de ponto flutuante  deve ter no mínimo um dígito e um ponto decimal ou \"e\" (ou \"E\").\n",
    "\n",
    "Mais sucintamente, a sintaxe é:\n",
    "\n",
    "```js\n",
    "[(+|-)][digitos][.digitos][(E|e)[(+|-)]digitos]\n",
    "```\n",
    "\n",
    "Por exemplo:"
   ]
  },
  {
   "cell_type": "code",
   "execution_count": 9,
   "metadata": {},
   "outputs": [
    {
     "data": {
      "text/plain": [
       "3.1415926"
      ]
     },
     "execution_count": 9,
     "metadata": {},
     "output_type": "execute_result"
    }
   ],
   "source": [
    "3.1415926"
   ]
  },
  {
   "cell_type": "code",
   "execution_count": 10,
   "metadata": {},
   "outputs": [
    {
     "data": {
      "text/plain": [
       "-0.123456789"
      ]
     },
     "execution_count": 10,
     "metadata": {},
     "output_type": "execute_result"
    }
   ],
   "source": [
    "-.123456789"
   ]
  },
  {
   "cell_type": "code",
   "execution_count": 11,
   "metadata": {},
   "outputs": [
    {
     "data": {
      "text/plain": [
       "-3100000000000"
      ]
     },
     "execution_count": 11,
     "metadata": {},
     "output_type": "execute_result"
    }
   ],
   "source": [
    "-3.1E+12"
   ]
  },
  {
   "cell_type": "code",
   "execution_count": 12,
   "metadata": {},
   "outputs": [
    {
     "data": {
      "text/plain": [
       "1e-24"
      ]
     },
     "execution_count": 12,
     "metadata": {},
     "output_type": "execute_result"
    }
   ],
   "source": [
    ".1e-23"
   ]
  },
  {
   "cell_type": "markdown",
   "metadata": {},
   "source": [
    "***\n",
    "### Objeto\n",
    "***"
   ]
  },
  {
   "cell_type": "markdown",
   "metadata": {},
   "source": [
    "Um objeto literal é uma lista de zero ou mais pares de nomes de propriedades e valores associados de um objeto, colocado entre chaves (```{}```). Você não deve usar um objeto literal no início de uma declaração. Isso levará a um erro ou não se comportará conforme o esperado, porque o { será interpretado como início de um bloco.\n",
    "\n",
    "Segue um exemplo de um objeto literal. O primeiro elemento do objeto **carro** define uma propriedade, **meuCarro**, e atribui para ele uma nova string, \"Punto\"; o segundo elemento, a propriedade **getCarro**, é imediatamente atribuído o resultado de chamar uma função (```tipoCarro(\"Fiat\")```); o terceiro elemento, a propriedade **especial**, usa uma variável existente (vendas)."
   ]
  },
  {
   "cell_type": "code",
   "execution_count": 13,
   "metadata": {},
   "outputs": [
    {
     "name": "stdout",
     "output_type": "stream",
     "text": [
      "Punto\n",
      "Fiat\n",
      "Toyota\n"
     ]
    }
   ],
   "source": [
    "var vendas = \"Toyota\";\n",
    "\n",
    "function tipoCarro(nome) {\n",
    "  if (nome == \"Fiat\") {\n",
    "    return nome;\n",
    "  } else {\n",
    "    return \"Desculpa, não vendemos carros \" + nome + \".\";\n",
    "  }\n",
    "}\n",
    "\n",
    "var carro = { meuCarro: \"Punto\", getCarro: tipoCarro(\"Fiat\"), especial: vendas };\n",
    "\n",
    "console.log(carro.meuCarro);\n",
    "console.log(carro.getCarro);\n",
    "console.log(carro.especial);"
   ]
  },
  {
   "cell_type": "markdown",
   "metadata": {},
   "source": [
    "Além disso, você pode usar um literal numérico ou string para o nome de uma propriedade ou aninhar um objeto dentro do outro. O exemplo a seguir usar essas opções."
   ]
  },
  {
   "cell_type": "code",
   "execution_count": 14,
   "metadata": {},
   "outputs": [
    {
     "name": "stdout",
     "output_type": "stream",
     "text": [
      "Jeep\n",
      "Mazda\n"
     ]
    }
   ],
   "source": [
    "var carro = { carros: {a: \"Saab\", \"b\": \"Jeep\"}, 7: \"Mazda\" };\n",
    "\n",
    "console.log(carro.carros.b);\n",
    "console.log(carro[7]);"
   ]
  },
  {
   "cell_type": "markdown",
   "metadata": {},
   "source": [
    "Nomes de propriedades de objeto podem ser qualquer string, incluindo uma string vazia. Caso o nome da propriedade não seja um identificador JavaScript ou número, ele deve ser colocado entre aspas. Nomes de propriedades que não possuem identificadores válido, também não podem ser acessadas pela propriedade de ponto (.), mas podem ser acessadas e definidas com a notação do tipo array (\"```[]```\")."
   ]
  },
  {
   "cell_type": "code",
   "execution_count": 15,
   "metadata": {},
   "outputs": [],
   "source": [
    "var unusualPropertyNames = {\n",
    "  \"\": \"Uma string vazia\",\n",
    "  \"!\": \"Bang!\"\n",
    "}"
   ]
  },
  {
   "cell_type": "code",
   "execution_count": 16,
   "metadata": {},
   "outputs": [
    {
     "ename": "SyntaxError",
     "evalue": "Unexpected string",
     "output_type": "error",
     "traceback": [
      "evalmachine.<anonymous>:2",
      "console.log(unusualPropertyNames.\"\");",
      "                                 ^^",
      "",
      "SyntaxError: Unexpected string",
      "    at createScript (vm.js:80:10)",
      "    at Object.runInThisContext (vm.js:139:10)",
      "    at run ([eval]:1054:15)",
      "    at onRunRequest ([eval]:888:18)",
      "    at onMessage ([eval]:848:13)",
      "    at emitTwo (events.js:126:13)",
      "    at process.emit (events.js:214:7)",
      "    at emit (internal/child_process.js:762:12)",
      "    at _combinedTickCallback (internal/process/next_tick.js:142:11)",
      "    at process._tickCallback (internal/process/next_tick.js:181:9)"
     ]
    }
   ],
   "source": [
    "// SyntaxError: string inesperada\n",
    "console.log(unusualPropertyNames.\"\");"
   ]
  },
  {
   "cell_type": "code",
   "execution_count": 17,
   "metadata": {},
   "outputs": [
    {
     "name": "stdout",
     "output_type": "stream",
     "text": [
      "Uma string vazia\n"
     ]
    }
   ],
   "source": [
    "// Uma string vazia\n",
    "console.log(unusualPropertyNames[\"\"]);"
   ]
  },
  {
   "cell_type": "code",
   "execution_count": 18,
   "metadata": {},
   "outputs": [
    {
     "ename": "SyntaxError",
     "evalue": "Unexpected token !",
     "output_type": "error",
     "traceback": [
      "evalmachine.<anonymous>:2",
      "console.log(unusualPropertyNames.!);",
      "                                 ^",
      "",
      "SyntaxError: Unexpected token !",
      "    at createScript (vm.js:80:10)",
      "    at Object.runInThisContext (vm.js:139:10)",
      "    at run ([eval]:1054:15)",
      "    at onRunRequest ([eval]:888:18)",
      "    at onMessage ([eval]:848:13)",
      "    at emitTwo (events.js:126:13)",
      "    at process.emit (events.js:214:7)",
      "    at emit (internal/child_process.js:762:12)",
      "    at _combinedTickCallback (internal/process/next_tick.js:142:11)",
      "    at process._tickCallback (internal/process/next_tick.js:181:9)"
     ]
    }
   ],
   "source": [
    "// SyntaxError: símbolo ! inesperado\n",
    "console.log(unusualPropertyNames.!);"
   ]
  },
  {
   "cell_type": "code",
   "execution_count": 19,
   "metadata": {},
   "outputs": [
    {
     "name": "stdout",
     "output_type": "stream",
     "text": [
      "Bang!\n"
     ]
    }
   ],
   "source": [
    "// Bang\n",
    "console.log(unusualPropertyNames[\"!\"]);"
   ]
  },
  {
   "cell_type": "markdown",
   "metadata": {},
   "source": [
    "Observe:"
   ]
  },
  {
   "cell_type": "code",
   "execution_count": 20,
   "metadata": {},
   "outputs": [
    {
     "name": "stdout",
     "output_type": "stream",
     "text": [
      "alpha\n",
      "two\n",
      "alpha\n",
      "two\n"
     ]
    }
   ],
   "source": [
    "var foo = {a: \"alpha\", 2: \"two\"};\n",
    "console.log(foo.a);\n",
    "console.log(foo[2]);\n",
    "//console.log(foo.2);  Error: missing ) after argument list\n",
    "//console.log(foo[a]); Error: a não está definido\n",
    "console.log(foo[\"a\"]);\n",
    "console.log(foo[\"2\"]);"
   ]
  },
  {
   "cell_type": "markdown",
   "metadata": {},
   "source": [
    "***\n",
    "### Expressão Regex\n",
    "***"
   ]
  },
  {
   "cell_type": "markdown",
   "metadata": {},
   "source": [
    "Um regex literal é um padrão entre barras. A seguir um exemplo de regex literal."
   ]
  },
  {
   "cell_type": "code",
   "execution_count": 21,
   "metadata": {},
   "outputs": [],
   "source": [
    "var re = /ab+c/;"
   ]
  },
  {
   "cell_type": "markdown",
   "metadata": {},
   "source": [
    "***\n",
    "### String\n",
    "***"
   ]
  },
  {
   "cell_type": "markdown",
   "metadata": {},
   "source": [
    "Uma string literal são zero ou mais caracteres dispostos em aspas duplas (\") ou aspas simples ('). Uma sequência de caracteres deve ser delimitada por aspas do mesmo tipo; ou seja,  as duas aspas simples ou ambas aspas duplas. A seguir um exemplo de strings literais.\n",
    "\n",
    "```js\n",
    "\"foo\"\n",
    "'bar'\n",
    "\"1234\"\n",
    "\"um linha \\n outra linha\"\n",
    "\"John's cat\"\n",
    "```\n",
    "\n",
    "Você pode chamar qualquer um dos métodos do objeto string em uma string literal - JavaScript automaticamente converte a string literal para um objeto string temporário, chama o método, em seguida, descarta o objeto string temporário. Você também pode usar a propriedade String.length com uma string literal:"
   ]
  },
  {
   "cell_type": "code",
   "execution_count": 23,
   "metadata": {},
   "outputs": [
    {
     "name": "stdout",
     "output_type": "stream",
     "text": [
      "10\n"
     ]
    }
   ],
   "source": [
    "// Irá exibir a quantidade de caracteres na string incluindo o espaço em branco.\n",
    "console.log(\"John's cat\".length)"
   ]
  },
  {
   "cell_type": "markdown",
   "metadata": {},
   "source": [
    "Você deve usar string literal, a não ser que você precise usar um objeto string.\n",
    "\n",
    "#### Uso de caracteres especiais em string\n",
    "\n",
    "Além dos caracteres comuns, você também pode incluir caracteres especiais em strings, como mostrado no exemplo a seguir."
   ]
  },
  {
   "cell_type": "code",
   "execution_count": 25,
   "metadata": {},
   "outputs": [
    {
     "name": "stdout",
     "output_type": "stream",
     "text": [
      "uma linha \n",
      " outra linha\n"
     ]
    }
   ],
   "source": [
    "console.log(\"uma linha \\n outra linha\")"
   ]
  },
  {
   "cell_type": "markdown",
   "metadata": {},
   "source": [
    "A tabela a seguir lista os caracteres especiais que podem ser usados em strings no JavaScript.\n",
    "\n",
    "|Caractere|Descrição|\n",
    "|:-------:|:--------|\n",
    "|```\\0```|Byte nulo|\n",
    "|```\\b```|Backspace|\n",
    "|```\\f```|Alimentador de formulário|\n",
    "|```\\n```|Nova linha|\n",
    "|```\\r```|Retorno do carro|\n",
    "|```\\t```|Tabulação|\n",
    "|```\\v```|Tabulação vertical|\n",
    "|```\\'```|Apóstrofo ou aspas simples|\n",
    "|```\\\"```|Aspas dupla|\n",
    "|```\\\\```|Caractere de barra invertida|\n",
    "|```\\XXX```|Caractere com a codificação Latin-1 especificada por três dígitos octal XXX entre 0 e 377. Por exemplo, \\251 é sequência octal para o símbolo de direitos autorais.|\n",
    "|```\\xXX```|Caractere com a codificação Latin-1 especificada por dois dígitos hexadecimal XX entre 00 e FF. Por exemplo, \\xA9 é a sequência hexadecimal para o símbolo de direitos autorais.|\n",
    "|```\\uXXXX```|Caractere Unicode especificado por quatro dígitos hexadecimal XXXX. Por exemplo, \\u00A9 é a sequência Unicode para o símbolo de direitos autorais. Veja sequências de escape Unicode.|"
   ]
  },
  {
   "cell_type": "markdown",
   "metadata": {},
   "source": [
    "#### Caracteres de escape\n",
    "\n",
    "Para caracteres não listados na tabela, se precedidos de barra invertida ela é ignorada, seu uso está absoleto e deve ser ignorado.\n",
    "\n",
    "Você pode inserir uma aspa dentro de uma string precendendo-a com uma barra invertida. Isso  é conhecido como escaping das aspas. Por exemplo:"
   ]
  },
  {
   "cell_type": "code",
   "execution_count": 26,
   "metadata": {},
   "outputs": [
    {
     "name": "stdout",
     "output_type": "stream",
     "text": [
      "Ele lê \"The Cremation of Sam McGee\" de R.W. Service.\n"
     ]
    }
   ],
   "source": [
    "var quote = \"Ele lê \\\"The Cremation of Sam McGee\\\" de R.W. Service.\";\n",
    "console.log(quote);"
   ]
  },
  {
   "cell_type": "markdown",
   "metadata": {},
   "source": [
    "Para incluir uma barra invertida dentro de uma string, você deve escapar o caractere de barra invertida. Por exemplo, para atribuir o caminho do arquivo c:\\temp para uma string, utilize o seguinte:"
   ]
  },
  {
   "cell_type": "code",
   "execution_count": 27,
   "metadata": {},
   "outputs": [],
   "source": [
    "var home = \"c:\\\\temp\";"
   ]
  },
  {
   "cell_type": "markdown",
   "metadata": {},
   "source": [
    "Você também pode escapar quebras de linhas, precedendo-as com barra invertida. A barra invertida e a quebra de linha são ambas removidas da string."
   ]
  },
  {
   "cell_type": "code",
   "execution_count": 30,
   "metadata": {},
   "outputs": [
    {
     "name": "stdout",
     "output_type": "stream",
     "text": [
      "esta string está quebrada em várias linhas.\n"
     ]
    }
   ],
   "source": [
    "var str = \"esta string \\\n",
    "está quebrada \\\n",
    "em várias \\\n",
    "linhas.\"\n",
    "console.log(str);"
   ]
  },
  {
   "cell_type": "markdown",
   "metadata": {},
   "source": [
    "Embora JavaScript não tenha sintaxe \"heredoc\", você pode adicionar uma quebra de linha e um escape de quebra de linha no final de cada linha:"
   ]
  },
  {
   "cell_type": "code",
   "execution_count": 31,
   "metadata": {},
   "outputs": [],
   "source": [
    "var poema = \n",
    "\"Rosas são vermelhas\\n\\\n",
    "Violetas são azuis,\\n\\\n",
    "Esse seu sorriso\\n\\\n",
    "é o que me seduz. (Lucas Pedrosa)\""
   ]
  },
  {
   "cell_type": "code",
   "execution_count": 32,
   "metadata": {},
   "outputs": [
    {
     "name": "stdout",
     "output_type": "stream",
     "text": [
      "Rosas são vermelhas\n",
      "Violetas são azuis,\n",
      "Esse seu sorriso\n",
      "é o que me seduz. (Lucas Pedrosa)\n"
     ]
    }
   ],
   "source": [
    "console.log(poema)"
   ]
  }
 ],
 "metadata": {
  "kernelspec": {
   "display_name": "Javascript (Node.js)",
   "language": "javascript",
   "name": "javascript"
  },
  "language_info": {
   "file_extension": ".js",
   "mimetype": "application/javascript",
   "name": "javascript",
   "version": "8.12.0"
  }
 },
 "nbformat": 4,
 "nbformat_minor": 2
}
