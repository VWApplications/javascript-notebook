{
 "cells": [
  {
   "cell_type": "markdown",
   "metadata": {},
   "source": [
    "## Começando com JavaScript\n",
    "***\n",
    "\n",
    "Começar a aprender JavaScript é fácil: Tudo o que você precisa é de um navegador web moderno. Esse guia inclui algumas características do JavaScript que só estão disponíveis nas últimas versões do Firefox, então, é recomendável o uso de uma versão mais recente do Firefox.\n",
    "\n",
    "Há duas ferramentas no Firefox que são muito úteis para aprender JavaScript: O console web e o Scratchpad.\n",
    "\n",
    "***\n",
    "### O console web\n",
    "***\n",
    "\n",
    "O console web mostra informações sobre a página web que está sendo carregada atualmente e também inclui a linha de comando que você pode utilizar para executar códigos JavaScript na página atual.\n",
    "\n",
    "Para abrir o console (Ctrl+Shift+K), selecione \"Web Console\" do menu \"Web Developer\", que está sob o menu \"Tools\" no Firefox. No Google Chrome é (Ctrl + Shift + I). Ele aparece na parte inferior da janela do navegador. Na parte inferior do console está a linha de comando que você pode usar para colocar o JavaScript, e a saída é exibida no painel acima:\n",
    "\n",
    "![Console](https://mdn.mozillademos.org/files/7363/web-console-commandline.png)"
   ]
  },
  {
   "cell_type": "markdown",
   "metadata": {},
   "source": [
    "***\n",
    "### Hello World\n",
    "***"
   ]
  },
  {
   "cell_type": "code",
   "execution_count": 1,
   "metadata": {},
   "outputs": [],
   "source": [
    "function olaMundo(nome) {\n",
    "    console.log(\"Olá \" + nome)\n",
    "}"
   ]
  },
  {
   "cell_type": "code",
   "execution_count": 2,
   "metadata": {},
   "outputs": [
    {
     "name": "stdout",
     "output_type": "stream",
     "text": [
      "Olá victor\n"
     ]
    }
   ],
   "source": [
    "olaMundo(\"victor\")"
   ]
  }
 ],
 "metadata": {
  "kernelspec": {
   "display_name": "Javascript (Node.js)",
   "language": "javascript",
   "name": "javascript"
  },
  "language_info": {
   "file_extension": ".js",
   "mimetype": "application/javascript",
   "name": "javascript",
   "version": "8.12.0"
  }
 },
 "nbformat": 4,
 "nbformat_minor": 2
}
